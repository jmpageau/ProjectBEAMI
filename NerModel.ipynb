{
 "cells": [
  {
   "cell_type": "code",
   "execution_count": 1,
   "metadata": {},
   "outputs": [
    {
     "name": "stderr",
     "output_type": "stream",
     "text": [
      "c:\\Users\\sec5j\\AppData\\Local\\Programs\\Python\\Python310\\lib\\site-packages\\tqdm\\auto.py:21: TqdmWarning: IProgress not found. Please update jupyter and ipywidgets. See https://ipywidgets.readthedocs.io/en/stable/user_install.html\n",
      "  from .autonotebook import tqdm as notebook_tqdm\n"
     ]
    },
    {
     "name": "stdout",
     "output_type": "stream",
     "text": [
      "Mon Jun  3 09:10:16 2024       \n",
      "+-----------------------------------------------------------------------------------------+\n",
      "| NVIDIA-SMI 552.22                 Driver Version: 552.22         CUDA Version: 12.4     |\n",
      "|-----------------------------------------+------------------------+----------------------+\n",
      "| GPU  Name                     TCC/WDDM  | Bus-Id          Disp.A | Volatile Uncorr. ECC |\n",
      "| Fan  Temp   Perf          Pwr:Usage/Cap |           Memory-Usage | GPU-Util  Compute M. |\n",
      "|                                         |                        |               MIG M. |\n",
      "|=========================================+========================+======================|\n",
      "|   0  NVIDIA GeForce RTX 3070 ...  WDDM  |   00000000:01:00.0  On |                  N/A |\n",
      "| N/A   48C    P8             17W /  128W |    2407MiB /   8192MiB |      2%      Default |\n",
      "|                                         |                        |                  N/A |\n",
      "+-----------------------------------------+------------------------+----------------------+\n",
      "                                                                                         \n",
      "+-----------------------------------------------------------------------------------------+\n",
      "| Processes:                                                                              |\n",
      "|  GPU   GI   CI        PID   Type   Process name                              GPU Memory |\n",
      "|        ID   ID                                                               Usage      |\n",
      "|=========================================================================================|\n",
      "|    0   N/A  N/A      5824    C+G   ...al\\Discord\\app-1.0.9147\\Discord.exe      N/A      |\n",
      "|    0   N/A  N/A     11000    C+G   C:\\Windows\\explorer.exe                     N/A      |\n",
      "|    0   N/A  N/A     12392    C+G   ...2txyewy\\StartMenuExperienceHost.exe      N/A      |\n",
      "|    0   N/A  N/A     16288    C+G   ...CBS_cw5n1h2txyewy\\TextInputHost.exe      N/A      |\n",
      "|    0   N/A  N/A     17172    C+G   ...al\\Discord\\app-1.0.9147\\Discord.exe      N/A      |\n",
      "|    0   N/A  N/A     17664    C+G   ...oogle\\Chrome\\Application\\chrome.exe      N/A      |\n",
      "|    0   N/A  N/A     22200    C+G   ...__8wekyb3d8bbwe\\WindowsTerminal.exe      N/A      |\n",
      "|    0   N/A  N/A     23004    C+G   ...\\Local\\slack\\app-4.38.125\\slack.exe      N/A      |\n",
      "|    0   N/A  N/A     26168    C+G   ...wekyb3d8bbwe\\XboxGameBarWidgets.exe      N/A      |\n",
      "|    0   N/A  N/A     31296    C+G   ...les\\Microsoft OneDrive\\OneDrive.exe      N/A      |\n",
      "|    0   N/A  N/A     31432    C+G   ...219_x64__8wekyb3d8bbwe\\ms-teams.exe      N/A      |\n",
      "|    0   N/A  N/A     34940    C+G   ...yewy\\Microsoft.AAD.BrokerPlugin.exe      N/A      |\n",
      "|    0   N/A  N/A     36296    C+G   ...t.LockApp_cw5n1h2txyewy\\LockApp.exe      N/A      |\n",
      "|    0   N/A  N/A     38584    C+G   ...__8wekyb3d8bbwe\\Notepad\\Notepad.exe      N/A      |\n",
      "|    0   N/A  N/A     41968    C+G   ....0_x64__8wekyb3d8bbwe\\PhotosApp.exe      N/A      |\n",
      "|    0   N/A  N/A     42444    C+G   ...GeForce Experience\\NVIDIA Share.exe      N/A      |\n",
      "|    0   N/A  N/A     43500    C+G   ...crosoft\\Edge\\Application\\msedge.exe      N/A      |\n",
      "|    0   N/A  N/A     44184    C+G   ...nt.CBS_cw5n1h2txyewy\\SearchHost.exe      N/A      |\n",
      "+-----------------------------------------------------------------------------------------+\n"
     ]
    }
   ],
   "source": [
    "# Import required libraries and install any necessary packages\n",
    "import spacy\n",
    "from spacy.tokens import DocBin\n",
    "from tqdm import tqdm\n",
    "import json\n",
    "\n",
    "# Check the installed version of spaCy\n",
    "spacy.__version__\n",
    "\n",
    "# Check GPU information\n",
    "!nvidia-smi"
   ]
  },
  {
   "cell_type": "code",
   "execution_count": 10,
   "metadata": {},
   "outputs": [
    {
     "name": "stdout",
     "output_type": "stream",
     "text": [
      "Conversion terminée. Les données sont enregistrées dans annotations.json.\n"
     ]
    }
   ],
   "source": [
    "import json\n",
    "\n",
    "# Charger les données depuis spacy_cleaned_data.json\n",
    "with open('spacy_cleaned_data.json', 'r', encoding='utf-8') as f:\n",
    "    data = json.load(f)\n",
    "\n",
    "# Préparer la structure pour annotations.json\n",
    "annotations = []\n",
    "\n",
    "# Parcourir chaque entrée dans le fichier spacy_cleaned_data.json\n",
    "for entry in data:\n",
    "    text = entry['text']\n",
    "    ents = entry['ents']\n",
    "    \n",
    "    entities = []\n",
    "    for ent in ents:\n",
    "        start, end, label = ent['start'], ent['end'], ent['label']\n",
    "        entities.append([start, end, label])\n",
    "    \n",
    "    # Ajouter l'entrée formatée dans la liste des annotations\n",
    "    annotations.append([text, {\"entities\": entities}])\n",
    "\n",
    "# Enregistrer les données formatées dans annotations.json\n",
    "with open('annotations.json', 'w', encoding='utf-8') as f:\n",
    "    json.dump(annotations, f, ensure_ascii=False, indent=4)\n",
    "\n",
    "print(\"Conversion terminée. Les données sont enregistrées dans annotations.json.\")\n"
   ]
  },
  {
   "cell_type": "code",
   "execution_count": 5,
   "metadata": {},
   "outputs": [],
   "source": [
    "import re\n",
    "\n",
    "def trim_entity_spans(data: list) -> list:\n",
    "    \"\"\"Removes leading and trailing white spaces from entity spans.\n",
    "\n",
    "    Args:\n",
    "        data (list): The data to be cleaned in spaCy JSON format.\n",
    "\n",
    "    Returns:\n",
    "        list: The cleaned data.\n",
    "    \"\"\"\n",
    "    invalid_span_tokens = re.compile(r'\\s')\n",
    "\n",
    "    cleaned_data = []\n",
    "    for text, annotations in data:\n",
    "        entities = annotations['entities']\n",
    "        valid_entities = []\n",
    "        for start, end, label in entities:\n",
    "            valid_start = start\n",
    "            valid_end = end\n",
    "            while valid_start < len(text) and invalid_span_tokens.match(text[valid_start]):\n",
    "                valid_start += 1\n",
    "            while valid_end > valid_start and valid_end <= len(text) and invalid_span_tokens.match(text[valid_end - 1]):\n",
    "                valid_end -= 1\n",
    "            if valid_start < valid_end:  # Ensure the span is still valid\n",
    "                valid_entities.append([valid_start, valid_end, label])\n",
    "        cleaned_data.append([text, {'entities': valid_entities}])\n",
    "\n",
    "    return cleaned_data"
   ]
  },
  {
   "cell_type": "code",
   "execution_count": 11,
   "metadata": {},
   "outputs": [
    {
     "data": {
      "text/plain": [
       "['408048 infirmier(Ã¨re infirmier(Ã¨re \\n clinicien(ne Ste Anne PÃ©rade \\n\\n IMPRIMER \\n\\n\\n\\n employeur \\n centre intÃ©grÃ© universitaire santÃ© SERVICES \\n sociau mauricie centre QUÃ‰BEC \\n site web \\n https://www.travaillerensante.com/ \\n adresse lieu travail \\n 752 rue couvent Saint-Tite quÃ©bec Canada G0X3H0 \\n appellation emploi \\n infirmier diplÃ´mÃ© infirmier diplÃ´mÃ© \\n nombre poste \\n 1 \\n contacter \\n ciuss MCQ \\n Courriel 04codes@ssss.gouv.qc.ca \\n description entreprise \\n ciuss MCQ crÃ©er premier avril 2015 issu 12 Ã©tablissement public santÃ© service social rÃ©gion sociosanitair \\n responsabilitÃ© assurer intÃ©gration soin service offrir population rÃ©seau territorial veille organisation service \\n complÃ©mentaritÃ© cadre mission CH CLSC chsld centre protection enfance jeunesse centre \\n rÃ©adaptation santÃ© public fonction besoin population rÃ©alitÃ© territorial \\n description offrir emploi \\n relation aide domaine passionn reconnaÃ®tre leadership orientÃ©e clientÃ¨le organisation planification \\n travail Ã©quipe vien jouer rÃ´le indispensable infirmier \\n infirmier assumer responsabilitÃ© ensemble soin infirmier besoin bio-psycho-social patient groupe personne \\n confier \\n expertise clinique infirmier appeler \\n Ã©valuer intervenir assurer suivi Ã©tat santÃ© usager responsabilitÃ© \\n utiliser autonomie professionnel dÃ©terminer assurer rÃ©alisation plan soin traitement \\n utiliser activemer leadership intervenant professionnel assurer continuitÃ© soin participation actif \\n rencontre multidisciplinaire \\n Planifier dispenser Ã©valuer enseignemer patient proche \\n initier soin traitement mÃ©dical but maintenir santÃ© rÃ©tablir prÃ©venir maladie \\n\\n participe recherche viser promotion santÃ© prÃ©vention maladie \\n ParticularitÃ©s infirmier clinicien \\n prescrir analyse laboratoire traitement produit mÃ©dicament pansement domaine soin \\n plaie santÃ© public soin courant rÃ©glementation vigueur \\n concevoir appliqu Ã©valuer programme soin requÃ©rir connaissance avancer viser problÃ¨me santÃ© complexe \\n comporter dimension bio-psycho-sociale variÃ©e identifier usager besoin intervention nÃ©cessiter coordination \\n service Ã©tablissement Ã©tablissement organisme milieu assurer cas Ã©chÃ©ant coordination service \\n poste Ã©quipe volant rotation disponible demande Informez vous auprÃ¨s Ã©quipe \\nÂ\\xa0\\n exigence \\n membre ordre infirmier infirmier QuÃ©bec \\n infirmier technicienn dÃ©tenir diplÃ´me Ã©tude collÃ©gial DEC soin infirmier \\n infirmier clinicien dÃ©tenir baccalaurÃ©at science infirmier \\n avantage diffÃ©rence \\n travail valoriser avoir impact bien-Ãªtre \\n activitÃ© social physique santÃ© mieux \\n formation mesure accÃ¨s poste gestion \\n milieu pleine transformation technologique projet dossier santÃ© numÃ©rique \\n 4 semaine vacance 9,6 jour maladie payer annÃ©e bÃ©nÃ©fice marginal \\n 13 congÃ© fÃ©riÃ© payer annÃ©e bÃ©nÃ©fice marginal \\n salaire intÃ©ressant bon progression salarial \\n assurance collectif rÃ©gime retraite \\n programme aide employÃ© pae \\n certification entreprise santÃ© Ã‰lite \\n accompagnement professionnel personnaliser \\nÂ\\xa0\\n qualification professionnel \\n offre emploi soumettre qualification professionnel reconnaÃ®tre rÃ©seau scolaire universitaire certificat permettre cours \\n appartenance ordre association professionnel etc. \\n Langues \\n franÃ§ais parler Ã©crire Moyen \\n expÃ©rience \\n aucun expÃ©rience \\n nombre heure \\n 37.5 heure \\n type emploi \\n temps plein \\n salaire minimal \\n 27.08 dollar \\n type offre \\n RÃ©gulier \\n horaire \\n jour Soir nuit \\n Salaire maximal \\n 47.98 dollar \\n date dÃ©but emploi \\n 25 juin 2024 \\n DisponibilitÃ©s \\n Semaine fin semaine \\n base salarial \\n horaire \\n durÃ©e emploi \\n temporaire \\n publier \\n 23 octobre 2023 \\n',\n",
       " {'entities': [[3491, 3558, 'Bien-Ãªtre et Ã©quilibre'],\n",
       "   [3560, 3621, \"PossibilitÃ© d'avancement et de dÃ©veloppement\"],\n",
       "   [3723, 3813, 'Avantages sociaux'],\n",
       "   [3815, 3874, 'Avantages sociaux'],\n",
       "   [3937, 3988, 'Avantages sociaux'],\n",
       "   [3990, 4028, 'Bien-Ãªtre et Ã©quilibre'],\n",
       "   [4079, 4120, \"PossibilitÃ© d'avancement et de dÃ©veloppement\"],\n",
       "   [4488, 4499, 'Temps plein'],\n",
       "   [4545, 4569, 'Horaire atypique'],\n",
       "   [4706, 4716, 'Temporaire']]}]"
      ]
     },
     "execution_count": 11,
     "metadata": {},
     "output_type": "execute_result"
    }
   ],
   "source": [
    "# Load the annotated data from a JSON file\n",
    "cv_data = json.load(open('./annotations.json','r'))\n",
    "\n",
    "# Display the number of items in the dataset\n",
    "#len(cv_data)\n",
    "#print(cv_data)\n",
    "trimed_data = trim_entity_spans(cv_data)\n",
    "#print(trimed_data)\n",
    "\n",
    "# Display the first item in the dataset\n",
    "cv_data[3]"
   ]
  },
  {
   "cell_type": "code",
   "execution_count": 12,
   "metadata": {},
   "outputs": [],
   "source": [
    "# Define a function to create spaCy DocBin objects from the annotated data\n",
    "def get_spacy_doc(file, data):\n",
    "  # Create a blank spaCy pipeline\n",
    "  nlp = spacy.blank('en')\n",
    "  db = DocBin()\n",
    "\n",
    "  # Iterate through the data\n",
    "  for text, annot in tqdm(data):\n",
    "    doc = nlp.make_doc(text)\n",
    "    annot = annot['entities']\n",
    "\n",
    "    ents = []\n",
    "    entity_indices = []\n",
    "\n",
    "    # Extract entities from the annotations\n",
    "    for start, end, label in annot:\n",
    "      skip_entity = False\n",
    "      for idx in range(start, end):\n",
    "        if idx in entity_indices:\n",
    "          skip_entity = True\n",
    "          break\n",
    "      if skip_entity:\n",
    "        continue\n",
    "\n",
    "      entity_indices = entity_indices + list(range(start, end))\n",
    "      try:\n",
    "        span = doc.char_span(start, end, label=label, alignment_mode='strict')\n",
    "      except:\n",
    "        continue\n",
    "\n",
    "      if span is None:\n",
    "        # Log errors for annotations that couldn't be processed\n",
    "        err_data = str([start, end]) + \"    \" + str(text) + \"\\n\"\n",
    "        file.write(err_data)\n",
    "      else:\n",
    "        ents.append(span)\n",
    "\n",
    "    try:\n",
    "      doc.ents = ents\n",
    "      db.add(doc)\n",
    "    except:\n",
    "      pass\n",
    "\n",
    "  return db"
   ]
  },
  {
   "cell_type": "code",
   "execution_count": 13,
   "metadata": {},
   "outputs": [
    {
     "name": "stderr",
     "output_type": "stream",
     "text": [
      "100%|██████████| 11/11 [00:00<00:00, 305.57it/s]\n",
      "100%|██████████| 3/3 [00:00<00:00, 187.51it/s]\n"
     ]
    }
   ],
   "source": [
    "# Split the annotated data into training and testing sets\n",
    "from sklearn.model_selection import train_test_split\n",
    "train, test = train_test_split(trimed_data, test_size=0.2)\n",
    "\n",
    "# Display the number of items in the training and testing sets\n",
    "len(train), len(test)\n",
    "\n",
    "# Open a file to log errors during annotation processing\n",
    "file = open('train_file.txt','w')\n",
    "\n",
    "# Create spaCy DocBin objects for training and testing data\n",
    "db = get_spacy_doc(file, train)\n",
    "db.to_disk('train_data.spacy')\n",
    "\n",
    "db = get_spacy_doc(file, test)\n",
    "db.to_disk('test_data.spacy')\n",
    "\n",
    "# Close the error log file\n",
    "file.close()"
   ]
  },
  {
   "cell_type": "markdown",
   "metadata": {},
   "source": [
    "## Ligne de commande à executer dans le terminal:\n",
    " python -m spacy train ./config.cfg  --output ./output  --paths.train ./train_data.spacy  --paths.dev ./test_data.spacy --gpu-id 0"
   ]
  }
 ],
 "metadata": {
  "kernelspec": {
   "display_name": "Python 3",
   "language": "python",
   "name": "python3"
  },
  "language_info": {
   "codemirror_mode": {
    "name": "ipython",
    "version": 3
   },
   "file_extension": ".py",
   "mimetype": "text/x-python",
   "name": "python",
   "nbconvert_exporter": "python",
   "pygments_lexer": "ipython3",
   "version": "3.10.11"
  }
 },
 "nbformat": 4,
 "nbformat_minor": 2
}
